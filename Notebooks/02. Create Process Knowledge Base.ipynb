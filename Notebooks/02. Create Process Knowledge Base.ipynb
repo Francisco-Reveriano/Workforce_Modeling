{
 "cells": [
  {
   "cell_type": "code",
   "id": "initial_id",
   "metadata": {
    "collapsed": true,
    "ExecuteTime": {
     "end_time": "2025-09-02T22:38:48.120983Z",
     "start_time": "2025-09-02T22:38:46.911923Z"
    }
   },
   "source": [
    "import os\n",
    "import nest_asyncio\n",
    "import openai\n",
    "from dotenv import load_dotenv\n",
    "from markdown import Markdown\n",
    "load_dotenv()"
   ],
   "outputs": [
    {
     "data": {
      "text/plain": [
       "True"
      ]
     },
     "execution_count": 1,
     "metadata": {},
     "output_type": "execute_result"
    }
   ],
   "execution_count": 1
  },
  {
   "metadata": {},
   "cell_type": "markdown",
   "source": "## Create Asssitant",
   "id": "5d59c80b78d3043b"
  },
  {
   "metadata": {
    "ExecuteTime": {
     "end_time": "2025-09-02T22:41:12.009592Z",
     "start_time": "2025-09-02T22:39:10.922264Z"
    }
   },
   "cell_type": "code",
   "source": [
    "client = openai.OpenAI(api_key=os.getenv(\"OPENAI_API_KEY\"), base_url=os.getenv(\"OPENAI_API_BASE\"))\n",
    "# 1) Create a vector store to hold your PDFs\n",
    "vs = client.vector_stores.create(name=\"Project PDFs\")\n",
    "# 2) Batch-upload many PDFs and wait until indexing is done\n",
    "directory = \"../Data/GenAI_Process_Knowledge_Base/\"\n",
    "file_paths = [\n",
    "    os.path.join(directory, f)\n",
    "    for f in os.listdir(directory)\n",
    "    if os.path.isfile(os.path.join(directory, f)) and f.lower().endswith(\".pdf\")\n",
    "]\n",
    "print(f\"Uploading {len(file_paths)} PDFs...\")\n",
    "file_streams = [open(p, \"rb\") for p in file_paths]\n",
    "try:\n",
    "    batch = client.vector_stores.file_batches.upload_and_poll(\n",
    "        vector_store_id=vs.id,\n",
    "        files=file_streams,  # any number of local PDFs\n",
    "    )\n",
    "    print(batch.status, batch.file_counts)  # e.g., \"completed\" and counts\n",
    "finally:\n",
    "    for f in file_streams:\n",
    "        f.close()"
   ],
   "id": "83b81a018407d620",
   "outputs": [
    {
     "name": "stdout",
     "output_type": "stream",
     "text": [
      "Uploading 31 PDFs...\n",
      "completed FileCounts(cancelled=0, completed=31, failed=0, in_progress=0, total=31)\n"
     ]
    }
   ],
   "execution_count": 2
  },
  {
   "metadata": {
    "ExecuteTime": {
     "end_time": "2025-09-02T22:41:40.093990Z",
     "start_time": "2025-09-02T22:41:40.089802Z"
    }
   },
   "cell_type": "code",
   "source": "vs.id",
   "id": "eb8b6e5581c8f8e4",
   "outputs": [
    {
     "data": {
      "text/plain": [
       "'vs_68b7720ffa048191b68a7374060bf593'"
      ]
     },
     "execution_count": 3,
     "metadata": {},
     "output_type": "execute_result"
    }
   ],
   "execution_count": 3
  }
 ],
 "metadata": {
  "kernelspec": {
   "display_name": "Python 3",
   "language": "python",
   "name": "python3"
  },
  "language_info": {
   "codemirror_mode": {
    "name": "ipython",
    "version": 2
   },
   "file_extension": ".py",
   "mimetype": "text/x-python",
   "name": "python",
   "nbconvert_exporter": "python",
   "pygments_lexer": "ipython2",
   "version": "2.7.6"
  }
 },
 "nbformat": 4,
 "nbformat_minor": 5
}
